{
 "cells": [
  {
   "cell_type": "code",
   "execution_count": 1,
   "metadata": {},
   "outputs": [],
   "source": [
    "import pandas as pd\n",
    "import ngram as ng\n",
    "\n",
    "\n",
    "df = pd.read_csv('daily_dialog.csv')\n",
    "text_column = df['Text']\n",
    "\n",
    "text_list = text_column.tolist()\n",
    "corpus = []\n",
    "\n",
    "\n",
    "for sentence in text_list:\n",
    "    corpus.append(str(sentence).split())\n",
    "\n",
    "\n",
    "test_set = []\n",
    "\n",
    "f = pd.read_csv('daily_dialog_test.csv')\n",
    "text_column = df['Text']\n",
    "\n",
    "text_list = text_column.tolist()\n",
    "\n",
    "for sentence in text_list:\n",
    "    test_set.append(str(sentence).split())"
   ]
  },
  {
   "cell_type": "code",
   "execution_count": 7,
   "metadata": {},
   "outputs": [
    {
     "name": "stdout",
     "output_type": "stream",
     "text": [
      "Ngram                    1           2            3\n",
      "Method                                             \n",
      "backoff        1269.134390   57.267679    13.964511\n",
      "interpolation  1269.134390  572.676791   139.645111\n",
      "kneser-ney       45.393551   70.259051    31.467333\n",
      "laplace        1212.298744  799.079040  2119.222454\n"
     ]
    }
   ],
   "source": [
    "results = []\n",
    "methods = ['laplace', 'backoff', 'interpolation', 'kneser-ney']\n",
    "ngram_sizes = [1, 2, 3]\n",
    "\n",
    "for method in methods:\n",
    "    for size in ngram_sizes:\n",
    "        model = ng.Smoothing(size, method)\n",
    "        model.trainModel(corpus)\n",
    "        perp = model.perplexity(test_set)\n",
    "        results.append({'Method': method, 'Ngram': size, 'Perplexity': perp})\n",
    "\n",
    "results_df = pd.DataFrame(results)\n",
    "pivot_table = results_df.pivot_table(index='Method', columns='Ngram', values='Perplexity')\n",
    "\n",
    "print(pivot_table)"
   ]
  }
 ],
 "metadata": {
  "kernelspec": {
   "display_name": ".venv",
   "language": "python",
   "name": "python3"
  },
  "language_info": {
   "codemirror_mode": {
    "name": "ipython",
    "version": 3
   },
   "file_extension": ".py",
   "mimetype": "text/x-python",
   "name": "python",
   "nbconvert_exporter": "python",
   "pygments_lexer": "ipython3",
   "version": "3.12.4"
  }
 },
 "nbformat": 4,
 "nbformat_minor": 2
}
